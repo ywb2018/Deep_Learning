{
 "cells": [
  {
   "cell_type": "code",
   "execution_count": 1,
   "metadata": {},
   "outputs": [],
   "source": [
    "import tensorflow as tf\n",
    "import numpy as np\n",
    "import matplotlib.pyplot as plt\n",
    "import warnings\n",
    "from tensorflow.examples.tutorials.mnist import input_data\n",
    "\n",
    "\n",
    "%matplotlib inline\n",
    "warnings.filterwarnings('ignore')"
   ]
  },
  {
   "cell_type": "code",
   "execution_count": 2,
   "metadata": {},
   "outputs": [
    {
     "name": "stdout",
     "output_type": "stream",
     "text": [
      "WARNING:tensorflow:From <ipython-input-2-7d3a9a8f204c>:2: read_data_sets (from tensorflow.contrib.learn.python.learn.datasets.mnist) is deprecated and will be removed in a future version.\n",
      "Instructions for updating:\n",
      "Please use alternatives such as official/mnist/dataset.py from tensorflow/models.\n",
      "WARNING:tensorflow:From d:\\python36\\lib\\site-packages\\tensorflow\\contrib\\learn\\python\\learn\\datasets\\mnist.py:260: maybe_download (from tensorflow.contrib.learn.python.learn.datasets.base) is deprecated and will be removed in a future version.\n",
      "Instructions for updating:\n",
      "Please write your own downloading logic.\n",
      "WARNING:tensorflow:From d:\\python36\\lib\\site-packages\\tensorflow\\contrib\\learn\\python\\learn\\datasets\\mnist.py:262: extract_images (from tensorflow.contrib.learn.python.learn.datasets.mnist) is deprecated and will be removed in a future version.\n",
      "Instructions for updating:\n",
      "Please use tf.data to implement this functionality.\n",
      "Extracting E:/Dataset/MNIST/train-images-idx3-ubyte.gz\n",
      "WARNING:tensorflow:From d:\\python36\\lib\\site-packages\\tensorflow\\contrib\\learn\\python\\learn\\datasets\\mnist.py:267: extract_labels (from tensorflow.contrib.learn.python.learn.datasets.mnist) is deprecated and will be removed in a future version.\n",
      "Instructions for updating:\n",
      "Please use tf.data to implement this functionality.\n",
      "Extracting E:/Dataset/MNIST/train-labels-idx1-ubyte.gz\n",
      "WARNING:tensorflow:From d:\\python36\\lib\\site-packages\\tensorflow\\contrib\\learn\\python\\learn\\datasets\\mnist.py:110: dense_to_one_hot (from tensorflow.contrib.learn.python.learn.datasets.mnist) is deprecated and will be removed in a future version.\n",
      "Instructions for updating:\n",
      "Please use tf.one_hot on tensors.\n",
      "Extracting E:/Dataset/MNIST/t10k-images-idx3-ubyte.gz\n",
      "Extracting E:/Dataset/MNIST/t10k-labels-idx1-ubyte.gz\n",
      "WARNING:tensorflow:From d:\\python36\\lib\\site-packages\\tensorflow\\contrib\\learn\\python\\learn\\datasets\\mnist.py:290: DataSet.__init__ (from tensorflow.contrib.learn.python.learn.datasets.mnist) is deprecated and will be removed in a future version.\n",
      "Instructions for updating:\n",
      "Please use alternatives such as official/mnist/dataset.py from tensorflow/models.\n",
      "\n",
      "Download finished!\n"
     ]
    }
   ],
   "source": [
    "location = 'E:/Dataset/MNIST/'\n",
    "mnist = input_data.read_data_sets(location,one_hot=True)\n",
    "print('\\nDownload finished!')"
   ]
  },
  {
   "cell_type": "code",
   "execution_count": 3,
   "metadata": {},
   "outputs": [],
   "source": [
    "#设定超参数\n",
    "learning_rate = 0.01\n",
    "training_iters = 5000\n",
    "batch_size = 128\n",
    "display_step = 10\n",
    "\n",
    "\n",
    "n_inputs = 28  #列数目\n",
    "n_steps = 28   #行数目\n",
    "n_hidden_units = 128  #隐藏层神经元的个数是128个\n",
    "n_classes = 10  #总共有10类"
   ]
  },
  {
   "cell_type": "code",
   "execution_count": 4,
   "metadata": {},
   "outputs": [],
   "source": [
    "#Graph 输入\n",
    "x = tf.placeholder(dtype=tf.float32,shape=[None,n_steps,n_inputs])\n",
    "y = tf.placeholder(dtype=tf.float32,shape=[None,n_classes])"
   ]
  },
  {
   "cell_type": "code",
   "execution_count": 5,
   "metadata": {},
   "outputs": [],
   "source": [
    "Weights = {\n",
    "    'in':  tf.Variable(tf.random_normal([n_inputs,n_hidden_units])),\n",
    "    'out': tf.Variable(tf.random_normal([n_hidden_units,n_classes]))\n",
    "}\n",
    "\n",
    "Biases  = {\n",
    "    'in':  tf.Variable(tf.random_normal([n_hidden_units])),\n",
    "    'out': tf.Variable(tf.random_normal([n_classes]))\n",
    "}"
   ]
  },
  {
   "cell_type": "code",
   "execution_count": 6,
   "metadata": {},
   "outputs": [
    {
     "name": "stdout",
     "output_type": "stream",
     "text": [
      "WARNING:tensorflow:From <ipython-input-6-1ba6303db7da>:19: softmax_cross_entropy_with_logits (from tensorflow.python.ops.nn_ops) is deprecated and will be removed in a future version.\n",
      "Instructions for updating:\n",
      "\n",
      "Future major versions of TensorFlow will allow gradients to flow\n",
      "into the labels input on backprop by default.\n",
      "\n",
      "See @{tf.nn.softmax_cross_entropy_with_logits_v2}.\n",
      "\n"
     ]
    }
   ],
   "source": [
    "def RNN(X,weight,biase):\n",
    "    #hidden layer for input\n",
    "    #X --> 128 * 28行 * 28列 \n",
    "    X = tf.reshape(X,[-1,n_inputs])\n",
    "    X_in = tf.matmul(X,weight['in']) + biase['in']\n",
    "    X_in = tf.reshape(X_in,[-1,n_steps,n_hidden_units])\n",
    "    \n",
    "    #cell\n",
    "    lstm_cell = tf.nn.rnn_cell.BasicLSTMCell(n_hidden_units,forget_bias=1.0,state_is_tuple=True)\n",
    "    init_state = lstm_cell.zero_state(batch_size,dtype=tf.float32)\n",
    "    output,states = tf.nn.dynamic_rnn(lstm_cell,X_in,initial_state=init_state,time_major=False)\n",
    "    \n",
    "    #hidden layer for output\n",
    "    result = tf.matmul(states[1],Weights['out'])+biase['out']\n",
    "    \n",
    "    \n",
    "    return result\n",
    "pred = RNN(x,Weights,Biases)\n",
    "cost = tf.reduce_mean(tf.nn.softmax_cross_entropy_with_logits(labels=y,logits=pred))\n",
    "\n",
    "train_op = tf.train.AdamOptimizer(learning_rate).minimize(cost)\n",
    "\n",
    "\n",
    "correct_pred = tf.equal(tf.argmax(pred,1),tf.argmax(y,1))\n",
    "accuracy_caculate = tf.reduce_mean(tf.cast(correct_pred,tf.float32))\n",
    "\n",
    "\n",
    "init = tf.global_variables_initializer()"
   ]
  },
  {
   "cell_type": "code",
   "execution_count": 8,
   "metadata": {},
   "outputs": [
    {
     "name": "stdout",
     "output_type": "stream",
     "text": [
      "iterations: 0  准确率是： 0.0625    损失：  10.226744\n",
      "iterations: 400  准确率是： 0.765625    损失：  0.69436026\n",
      "iterations: 800  准确率是： 0.859375    损失：  0.44804823\n",
      "iterations: 1200  准确率是： 0.9296875    损失：  0.22368234\n",
      "iterations: 1600  准确率是： 0.9375    损失：  0.18138818\n",
      "iterations: 2000  准确率是： 0.9453125    损失：  0.2163907\n",
      "iterations: 2400  准确率是： 0.953125    损失：  0.24037042\n",
      "iterations: 2800  准确率是： 0.9609375    损失：  0.14124542\n",
      "iterations: 3200  准确率是： 0.96875    损失：  0.06935243\n",
      "iterations: 3600  准确率是： 0.9921875    损失：  0.0348662\n",
      "iterations: 4000  准确率是： 0.9765625    损失：  0.08486172\n",
      "iterations: 4400  准确率是： 0.96875    损失：  0.09939143\n",
      "iterations: 4800  准确率是： 0.953125    损失：  0.17768611\n"
     ]
    }
   ],
   "source": [
    "with tf.Session() as sess:\n",
    "    sess.run(init)\n",
    "    steps = 0\n",
    "    for steps  in range(training_iters):\n",
    "        batch = mnist.train.next_batch(batch_size)\n",
    "        batch_x = batch[0].reshape([-1,n_steps,n_inputs])\n",
    "        batch_y = batch[1]\n",
    "        \n",
    "        sess.run(train_op,feed_dict = {x:batch_x, y:batch[1]})\n",
    "        \n",
    "        if steps%400 ==0:\n",
    "            print('iterations:',steps ,' 准确率是：',sess.run(accuracy_caculate,feed_dict = { x:batch_x, y:batch_y}),\\\n",
    "                 '   损失： ',sess.run(cost,feed_dict = { x:batch_x, y:batch_y}))\n",
    "        steps+=1"
   ]
  },
  {
   "cell_type": "code",
   "execution_count": null,
   "metadata": {},
   "outputs": [],
   "source": []
  },
  {
   "cell_type": "code",
   "execution_count": null,
   "metadata": {},
   "outputs": [],
   "source": []
  },
  {
   "cell_type": "code",
   "execution_count": null,
   "metadata": {},
   "outputs": [],
   "source": []
  }
 ],
 "metadata": {
  "kernelspec": {
   "display_name": "Python 3",
   "language": "python",
   "name": "python3"
  },
  "language_info": {
   "codemirror_mode": {
    "name": "ipython",
    "version": 3
   },
   "file_extension": ".py",
   "mimetype": "text/x-python",
   "name": "python",
   "nbconvert_exporter": "python",
   "pygments_lexer": "ipython3",
   "version": "3.6.0"
  }
 },
 "nbformat": 4,
 "nbformat_minor": 2
}
