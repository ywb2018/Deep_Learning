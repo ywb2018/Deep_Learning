{
 "cells": [
  {
   "cell_type": "code",
   "execution_count": 8,
   "metadata": {},
   "outputs": [],
   "source": [
    "import tensorflow as tf\n",
    "import numpy as np\n",
    "import matplotlib.pyplot as plt\n",
    "import warnings\n",
    "\n",
    "%matplotlib inline\n",
    "warnings.filterwarnings('ignore')"
   ]
  },
  {
   "cell_type": "code",
   "execution_count": 9,
   "metadata": {},
   "outputs": [],
   "source": [
    "#超参数\n",
    "learning_rate = 0.01\n",
    "training_epochs = 1000\n",
    "display_step = 50"
   ]
  },
  {
   "cell_type": "code",
   "execution_count": 10,
   "metadata": {},
   "outputs": [],
   "source": [
    "#Traininh Data\n",
    "train_x = np.asarray([3.3,4.4,5.5,6.71,6.93,4.168,9.779,6.182,7.59,2.167,\n",
    "                    7.042,10.791,5.313,7.997,5.654,9.27,3.1])\n",
    "train_y = np.asarray([1.7,2.76,2.09,3.19,1.694,1.573,3.366,2.596,2.53,1.221,\n",
    "                     2.827,3.465,1.65,2.904,2.42,2.94,1.3])\n",
    "n_samples = train_x.shape[0]"
   ]
  },
  {
   "cell_type": "code",
   "execution_count": 11,
   "metadata": {},
   "outputs": [],
   "source": [
    "#tf Graph Input\n",
    "X = tf.placeholder('float')\n",
    "Y = tf.placeholder('float')\n",
    "\n",
    "#Set model weights\n",
    "W = tf.Variable(np.random.randn(),name='weight')\n",
    "b = tf.Variable(np.random.randn(),name= 'bias')"
   ]
  },
  {
   "cell_type": "code",
   "execution_count": 12,
   "metadata": {},
   "outputs": [],
   "source": [
    "#构造线性模型\n",
    "pred = tf.add(tf.multiply(X,W),b)"
   ]
  },
  {
   "cell_type": "code",
   "execution_count": 17,
   "metadata": {},
   "outputs": [],
   "source": [
    "#损失函数\n",
    "cost = tf.reduce_sum(tf.pow(pred-Y,2))/(2*n_samples)\n",
    "\n",
    "#梯度下降\n",
    "optimizer = tf.train.GradientDescentOptimizer(learning_rate=learning_rate).minimize(cost)"
   ]
  },
  {
   "cell_type": "code",
   "execution_count": 19,
   "metadata": {},
   "outputs": [],
   "source": [
    "#初始化变量\n",
    "init = tf.global_variables_initializer()"
   ]
  },
  {
   "cell_type": "code",
   "execution_count": 29,
   "metadata": {},
   "outputs": [
    {
     "name": "stdout",
     "output_type": "stream",
     "text": [
      "Epoch: 0050  cost=0.085598990 W= 0.30164087 b= 0.42704254\n",
      "Epoch: 0100  cost=0.084601171 W= 0.2985453 b= 0.4493113\n",
      "Epoch: 0150  cost=0.083718717 W= 0.29563388 b= 0.47025597\n",
      "Epoch: 0200  cost=0.082938395 W= 0.29289564 b= 0.48995432\n",
      "Epoch: 0250  cost=0.082248375 W= 0.29032043 b= 0.50848085\n",
      "Epoch: 0300  cost=0.081638165 W= 0.28789806 b= 0.52590674\n",
      "Epoch: 0350  cost=0.081098601 W= 0.2856199 b= 0.54229575\n",
      "Epoch: 0400  cost=0.080621511 W= 0.28347722 b= 0.5577097\n",
      "Epoch: 0450  cost=0.080199607 W= 0.28146195 b= 0.572208\n",
      "Epoch: 0500  cost=0.079826586 W= 0.27956635 b= 0.58584464\n",
      "Epoch: 0550  cost=0.079496726 W= 0.2777835 b= 0.5986704\n",
      "Epoch: 0600  cost=0.079205148 W= 0.27610666 b= 0.61073273\n",
      "Epoch: 0650  cost=0.078947365 W= 0.27452987 b= 0.62207633\n",
      "Epoch: 0700  cost=0.078719497 W= 0.27304694 b= 0.6327443\n",
      "Epoch: 0750  cost=0.078518018 W= 0.27165222 b= 0.64277846\n",
      "Epoch: 0800  cost=0.078339957 W= 0.2703404 b= 0.65221506\n",
      "Epoch: 0850  cost=0.078182511 W= 0.2691066 b= 0.6610913\n",
      "Epoch: 0900  cost=0.078043349 W= 0.26794615 b= 0.66943944\n",
      "Epoch: 0950  cost=0.077920355 W= 0.2668547 b= 0.677291\n",
      "Epoch: 1000  cost=0.077811643 W= 0.26582822 b= 0.68467563\n",
      "\n",
      "Optimization Finished!\n",
      "Training cost =  0.07781164 W= 0.26582822 b= 0.68467563\n"
     ]
    },
    {
     "data": {
      "image/png": "[encoded data removed]",
      "text/plain": [
       "<Figure size 432x288 with 1 Axes>"
      ]
     },
     "metadata": {},
     "output_type": "display_data"
    }
   ],
   "source": [
    "with tf.Session() as sess:\n",
    "    sess.run(init)\n",
    "    for epoch in range(training_epochs):\n",
    "        for (x,y) in zip(train_x,train_y):\n",
    "            sess.run(optimizer,feed_dict = {X: x,Y: y})\n",
    "        \n",
    "        if (epoch+1)%display_step ==0:\n",
    "            c =sess.run(cost,feed_dict = {X: train_x, Y: train_y})\n",
    "            print('Epoch: '+'%04d'%(epoch+1),' cost='+'{:.9f}'.format(c),'W= '+str(sess.run(W)),'b= '+str(sess.run(b)))\n",
    "        \n",
    "    print('\\nOptimization Finished!')\n",
    "    training_cost = sess.run(cost,feed_dict={X: train_x,Y: train_y})\n",
    "    print('Training cost = ',training_cost, 'W= '+str(sess.run(W)),'b= '+str(sess.run(b)))\n",
    "    \n",
    "    plt.plot(train_x,train_y,'ro',label= 'Original data')\n",
    "    plt.plot(train_x,sess.run(W)*train_x+sess.run(b),label = 'Fitted line')\n",
    "    plt.legend()"
   ]
  },
  {
   "cell_type": "code",
   "execution_count": null,
   "metadata": {},
   "outputs": [],
   "source": []
  },
  {
   "cell_type": "code",
   "execution_count": null,
   "metadata": {},
   "outputs": [],
   "source": []
  }
 ],
 "metadata": {
  "kernelspec": {
   "display_name": "Python 3",
   "language": "python",
   "name": "python3"
  },
  "language_info": {
   "codemirror_mode": {
    "name": "ipython",
    "version": 3
   },
   "file_extension": ".py",
   "mimetype": "text/x-python",
   "name": "python",
   "nbconvert_exporter": "python",
   "pygments_lexer": "ipython3",
   "version": "3.6.0"
  }
 },
 "nbformat": 4,
 "nbformat_minor": 2
}
