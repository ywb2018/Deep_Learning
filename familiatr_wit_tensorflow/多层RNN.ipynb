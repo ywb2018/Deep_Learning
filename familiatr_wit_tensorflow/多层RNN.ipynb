{
 "cells": [
  {
   "cell_type": "code",
   "execution_count": 1,
   "metadata": {},
   "outputs": [],
   "source": [
    "import tensorflow as tf\n",
    "import numpy as np\n",
    "import matplotlib.pyplot as plt\n",
    "import warnings\n",
    "from tensorflow.examples.tutorials.mnist import input_data\n",
    "\n",
    "\n",
    "%matplotlib inline\n",
    "warnings.filterwarnings('ignore')"
   ]
  },
  {
   "cell_type": "code",
   "execution_count": 2,
   "metadata": {},
   "outputs": [
    {
     "name": "stdout",
     "output_type": "stream",
     "text": [
      "Extracting H:/data/train-images-idx3-ubyte.gz\n",
      "Extracting H:/data/train-labels-idx1-ubyte.gz\n",
      "Extracting H:/data/t10k-images-idx3-ubyte.gz\n",
      "Extracting H:/data/t10k-labels-idx1-ubyte.gz\n",
      "\n",
      "Download finished!\n"
     ]
    }
   ],
   "source": [
    "location = 'H:/data/'\n",
    "mnist = input_data.read_data_sets(location,one_hot=True)\n",
    "print('\\nDownload finished!')\n",
    "\n",
    "\n",
    "#设定超参数\n",
    "learning_rate = 0.01\n",
    "training_iters = 5000\n",
    "batch_size = 64\n",
    "display_step = 10\n",
    "\n",
    "\n",
    "n_inputs = 28  #列数目\n",
    "n_steps = 28   #行数目\n",
    "n_hidden_units = 128  #隐藏层神经元的个数是128个\n",
    "n_classes = 10  #总共有10类\n",
    "\n",
    "\n",
    "#Graph 输入\n",
    "x = tf.placeholder(dtype=tf.float32,shape=[None,n_steps,n_inputs])\n",
    "y = tf.placeholder(dtype=tf.float32,shape=[None,n_classes])"
   ]
  },
  {
   "cell_type": "code",
   "execution_count": 3,
   "metadata": {},
   "outputs": [],
   "source": [
    "Weights = {\n",
    "    'in':  tf.Variable(tf.random_normal([n_inputs,n_hidden_units])),\n",
    "    'out': tf.Variable(tf.random_normal([n_hidden_units,n_classes]))\n",
    "}\n",
    "\n",
    "Biases  = {\n",
    "    'in':  tf.Variable(tf.random_normal([n_hidden_units])),\n",
    "    'out': tf.Variable(tf.random_normal([n_classes]))\n",
    "}"
   ]
  },
  {
   "cell_type": "markdown",
   "metadata": {},
   "source": [
    "实验证明一下两种方法都可以进行多层LSTM的定义\n",
    "==\n",
    "方法一：\n",
    "\n",
    "------------------------------------------\n",
    "lstm_cell = tf.nn.rnn_cell.BasicLSTMCell(n_hidden_units,forget_bias=1.0,state_is_tuple=True)\n",
    "\n",
    "multi_cell = tf.nn.rnn_cell.MultiRNNCell([lstm_cell]*2) # 2层LSTM\n",
    "\n",
    "\n",
    "\n",
    "方法二：\n",
    "\n",
    "------------------------------------------\n",
    "def get_a_cell():\n",
    "\n",
    "       return tf.nn.rnn_cell.BasicLSTMCell(num_units=128)\n",
    "multi_cell = tf.nn.rnn_cell.MultiRNNCell([get_a_cell() for _ in range(2)]) # 2层LSTM"
   ]
  },
  {
   "cell_type": "code",
   "execution_count": 4,
   "metadata": {},
   "outputs": [
    {
     "name": "stdout",
     "output_type": "stream",
     "text": [
      "(2, 2)\n"
     ]
    }
   ],
   "source": [
    "def get_a_cell():\n",
    "    return tf.nn.rnn_cell.BasicLSTMCell(num_units=128)\n",
    "\n",
    "def RNN(X,weight,biase):\n",
    "    #hidden layer for input\n",
    "    #X --> 128 * 28行 * 28列 \n",
    "    X = tf.reshape(X,[-1,n_inputs])\n",
    "    X_in = tf.matmul(X,weight['in']) + biase['in']\n",
    "    X_in = tf.reshape(X_in,[-1,n_steps,n_hidden_units])\n",
    "    \n",
    "    lstm_cell = tf.nn.rnn_cell.BasicLSTMCell(n_hidden_units,forget_bias=1.0,state_is_tuple=True)\n",
    "#     multi_cell = tf.nn.rnn_cell.MultiRNNCell([lstm_cell]*2)\n",
    "    multi_cell = tf.nn.rnn_cell.MultiRNNCell([get_a_cell() for _ in range(2)]) # 2层LSTM\n",
    "    #cell\n",
    "\n",
    "    init_state = multi_cell.zero_state(batch_size,dtype=tf.float32)\n",
    "    output,states = tf.nn.dynamic_rnn(multi_cell,X_in,initial_state=init_state,time_major=False)\n",
    "    print(np.shape(states))\n",
    "    #hidden layer for output\n",
    "    result = tf.matmul(states[1][1],Weights['out'])+biase['out']\n",
    "    return result\n",
    "\n",
    "\n",
    "pred = RNN(x,Weights,Biases)\n",
    "cost = tf.reduce_mean(tf.nn.softmax_cross_entropy_with_logits(labels=y,logits=pred))\n",
    "\n",
    "train_op = tf.train.AdamOptimizer(learning_rate).minimize(cost)\n",
    "\n",
    "\n",
    "correct_pred = tf.equal(tf.arg_max(pred,1),tf.arg_max(y,1))\n",
    "accuracy_caculate = tf.reduce_mean(tf.cast(correct_pred,tf.float32))\n",
    "\n",
    "\n",
    "init = tf.global_variables_initializer()\n"
   ]
  },
  {
   "cell_type": "code",
   "execution_count": 5,
   "metadata": {},
   "outputs": [
    {
     "name": "stdout",
     "output_type": "stream",
     "text": [
      "iter NO:  0  准确率是： 0.203125    损失：  10.841012\n",
      "iter NO:  200  准确率是： 0.671875    损失：  0.7730325\n",
      "iter NO:  400  准确率是： 0.96875    损失：  0.20593289\n",
      "iter NO:  600  准确率是： 0.859375    损失：  0.30317616\n",
      "iter NO:  800  准确率是： 0.9375    损失：  0.36036387\n",
      "iter NO:  1000  准确率是： 1.0    损失：  0.058910318\n",
      "iter NO:  1200  准确率是： 0.96875    损失：  0.09840456\n",
      "iter NO:  1400  准确率是： 0.984375    损失：  0.096673444\n",
      "iter NO:  1600  准确率是： 0.96875    损失：  0.13619779\n",
      "iter NO:  1800  准确率是： 0.984375    损失：  0.09508893\n",
      "iter NO:  2000  准确率是： 0.953125    损失：  0.10007714\n",
      "iter NO:  2200  准确率是： 0.984375    损失：  0.05720318\n",
      "iter NO:  2400  准确率是： 0.984375    损失：  0.06994754\n",
      "iter NO:  2600  准确率是： 0.96875    损失：  0.14140889\n",
      "iter NO:  2800  准确率是： 0.953125    损失：  0.1021637\n",
      "iter NO:  3000  准确率是： 0.9375    损失：  0.12517326\n",
      "iter NO:  3200  准确率是： 0.984375    损失：  0.05231764\n",
      "iter NO:  3400  准确率是： 0.96875    损失：  0.122942775\n",
      "iter NO:  3600  准确率是： 1.0    损失：  0.026326928\n",
      "iter NO:  3800  准确率是： 0.984375    损失：  0.07332572\n",
      "iter NO:  4000  准确率是： 0.984375    损失：  0.05492371\n",
      "iter NO:  4200  准确率是： 0.96875    损失：  0.13420133\n",
      "iter NO:  4400  准确率是： 0.9375    损失：  0.18316284\n",
      "iter NO:  4600  准确率是： 0.984375    损失：  0.08053125\n",
      "iter NO:  4800  准确率是： 0.984375    损失：  0.07196154\n"
     ]
    }
   ],
   "source": [
    "with tf.Session() as sess:\n",
    "    sess.run(init)\n",
    "    steps = 0\n",
    "    for steps  in range(training_iters):\n",
    "        batch = mnist.train.next_batch(batch_size)\n",
    "        batch_x = batch[0].reshape([-1,n_steps,n_inputs])\n",
    "        batch_y = batch[1]\n",
    "        \n",
    "        sess.run(train_op,feed_dict = {x:batch_x, y:batch[1]})\n",
    "        \n",
    "        if steps%200 ==0:\n",
    "            print('iter NO: ',steps,' 准确率是：',sess.run(accuracy_caculate,feed_dict = { x:batch_x, y:batch_y}),\\\n",
    "                 '   损失： ',sess.run(cost,feed_dict = { x:batch_x, y:batch_y}))\n",
    "        steps+=1"
   ]
  }
 ],
 "metadata": {
  "kernelspec": {
   "display_name": "Python 3",
   "language": "python",
   "name": "python3"
  },
  "language_info": {
   "codemirror_mode": {
    "name": "ipython",
    "version": 3
   },
   "file_extension": ".py",
   "mimetype": "text/x-python",
   "name": "python",
   "nbconvert_exporter": "python",
   "pygments_lexer": "ipython3",
   "version": "3.6.0"
  }
 },
 "nbformat": 4,
 "nbformat_minor": 2
}
